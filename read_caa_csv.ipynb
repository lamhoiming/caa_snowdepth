{
 "cells": [
  {
   "cell_type": "code",
   "execution_count": 1,
   "metadata": {},
   "outputs": [],
   "source": [
    "\"\"\"\n",
    "Translating read_caa_csv.R into Python\n",
    "Lam Hoi Ming\n",
    "02-07-2019\n",
    "\n",
    "Data processing is done on the original csv file. Separated into files by station\n",
    "\"\"\"\n",
    "import os\n",
    "import re\n",
    "import pandas as pd\n",
    "import matplotlib.pyplot as plt\n"
   ]
  },
  {
   "cell_type": "code",
   "execution_count": 2,
   "metadata": {},
   "outputs": [],
   "source": [
    "############ data input #################\n",
    "#### set data input working directory: Where are your data?\n",
    "Mdir = \"d:/phd/caa/eccc/snowdepth/\"   # Master/root dir\n",
    "wdir = Mdir + \"data/station/csv/\" # specific working dir\n",
    "os.chdir(wdir)\n"
   ]
  },
  {
   "cell_type": "code",
   "execution_count": 3,
   "metadata": {},
   "outputs": [
    {
     "data": {
      "text/html": [
       "<div>\n",
       "<style scoped>\n",
       "    .dataframe tbody tr th:only-of-type {\n",
       "        vertical-align: middle;\n",
       "    }\n",
       "\n",
       "    .dataframe tbody tr th {\n",
       "        vertical-align: top;\n",
       "    }\n",
       "\n",
       "    .dataframe thead th {\n",
       "        text-align: right;\n",
       "    }\n",
       "</style>\n",
       "<table border=\"1\" class=\"dataframe\">\n",
       "  <thead>\n",
       "    <tr style=\"text-align: right;\">\n",
       "      <th></th>\n",
       "      <th>StationName</th>\n",
       "      <th>Unnamed: 2</th>\n",
       "      <th>latitude</th>\n",
       "      <th>longitude</th>\n",
       "      <th>name</th>\n",
       "      <th>desc</th>\n",
       "    </tr>\n",
       "    <tr>\n",
       "      <th>StationID</th>\n",
       "      <th></th>\n",
       "      <th></th>\n",
       "      <th></th>\n",
       "      <th></th>\n",
       "      <th></th>\n",
       "      <th></th>\n",
       "    </tr>\n",
       "  </thead>\n",
       "  <tbody>\n",
       "    <tr>\n",
       "      <th>Q25</th>\n",
       "      <td>14A (END BECANCOUR DOCK) Q25</td>\n",
       "      <td>NaN</td>\n",
       "      <td>46.399811</td>\n",
       "      <td>-72.381981</td>\n",
       "      <td>14A (END BECANCOUR DOCK)</td>\n",
       "      <td>View ice thickness data</td>\n",
       "    </tr>\n",
       "    <tr>\n",
       "      <th>Q26</th>\n",
       "      <td>14B (MID BECANCOUR DOCK) Q26</td>\n",
       "      <td>NaN</td>\n",
       "      <td>46.398354</td>\n",
       "      <td>-72.380264</td>\n",
       "      <td>14B (MID BECANCOUR DOCK)</td>\n",
       "      <td>NaN</td>\n",
       "    </tr>\n",
       "    <tr>\n",
       "      <th>A1</th>\n",
       "      <td>A1</td>\n",
       "      <td>NaN</td>\n",
       "      <td>45.529766</td>\n",
       "      <td>-73.527260</td>\n",
       "      <td>A1</td>\n",
       "      <td>+45° 31' 47.16\", -73° 31' 38.14\"&lt;BR&gt;</td>\n",
       "    </tr>\n",
       "    <tr>\n",
       "      <th>A10</th>\n",
       "      <td>A10</td>\n",
       "      <td>NaN</td>\n",
       "      <td>45.407558</td>\n",
       "      <td>-73.728767</td>\n",
       "      <td>A10</td>\n",
       "      <td>+45° 24' 27.21\", -73° 43' 43.57\"&lt;BR&gt;</td>\n",
       "    </tr>\n",
       "    <tr>\n",
       "      <th>A2</th>\n",
       "      <td>A2</td>\n",
       "      <td>NaN</td>\n",
       "      <td>45.514477</td>\n",
       "      <td>-73.523872</td>\n",
       "      <td>A2</td>\n",
       "      <td>+45° 30' 52.11\", -73° 31' 25.94\"&lt;BR&gt;</td>\n",
       "    </tr>\n",
       "  </tbody>\n",
       "</table>\n",
       "</div>"
      ],
      "text/plain": [
       "                            StationName  Unnamed: 2   latitude  longitude  \\\n",
       "StationID                                                                   \n",
       "Q25        14A (END BECANCOUR DOCK) Q25         NaN  46.399811 -72.381981   \n",
       "Q26        14B (MID BECANCOUR DOCK) Q26         NaN  46.398354 -72.380264   \n",
       "A1                                   A1         NaN  45.529766 -73.527260   \n",
       "A10                                 A10         NaN  45.407558 -73.728767   \n",
       "A2                                   A2         NaN  45.514477 -73.523872   \n",
       "\n",
       "                               name                                  desc  \n",
       "StationID                                                                  \n",
       "Q25        14A (END BECANCOUR DOCK)               View ice thickness data  \n",
       "Q26        14B (MID BECANCOUR DOCK)                                   NaN  \n",
       "A1                               A1  +45° 31' 47.16\", -73° 31' 38.14\"<BR>  \n",
       "A10                             A10  +45° 24' 27.21\", -73° 43' 43.57\"<BR>  \n",
       "A2                               A2  +45° 30' 52.11\", -73° 31' 25.94\"<BR>  "
      ]
     },
     "execution_count": 3,
     "metadata": {},
     "output_type": "execute_result"
    }
   ],
   "source": [
    "# Getting station ID\n",
    "# Lat lon info are stored in idname\n",
    "idname = pd.read_csv('ID_NAME.csv', encoding = \"utf-8\", sep = ',', index_col = 'StationID') # ISO-8859-1 for ASCII\n",
    "idname.head()"
   ]
  },
  {
   "cell_type": "code",
   "execution_count": 4,
   "metadata": {},
   "outputs": [
    {
     "name": "stdout",
     "output_type": "stream",
     "text": [
      "['CAPE PARRY ZUE', 'COPPERMINE YCO', 'HOLMAN ISLAND YHI', 'ISACHSEN (OLD ICE) IC1', 'ISACHSEN YIC', 'LADY FRANKLIN POINT YUJ', 'MOULD BAY YMD', 'SACHS HARBOUR YSY', 'ALERT LT1', 'ALERT YLT', 'CAMBRIDGE BAY YCB', 'CORAL HARBOUR YZS', 'EUREKA WEU', 'HALL BEACH YUX', 'IQALUIT YFB', 'RESOLUTE YRB', 'ARCTIC BAY YAB', 'CAPE DORSET YTE', 'CHESTERFIELD INLET YCS', 'CHURCHILL YYQ', 'CLYDE YCY', 'GLADMAN POINT YUR', 'INUKJUAK PH1', 'INUKJUAK WPH', 'IQALUIT YFB', 'KUUJJUAQ YVP', 'KUUJJUARAPIK YGW', 'MOOSONEE WZC', 'POND INLET YIO', 'QUAQTAQ HA1', 'QUAQTAQ YHA', 'SHEPHERD BAY YUS', 'SPENCE BAY YNC', 'BAKER LAKE YBK', 'INUVIK YEV']\n"
     ]
    }
   ],
   "source": [
    "# List of stations\n",
    "list_station = [\n",
    "  # West of 100W, no 2016\n",
    "  \"CAPE PARRY ZUE\", \n",
    "  \"COPPERMINE YCO\",\n",
    "  \"HOLMAN ISLAND YHI\",\n",
    "  \"ISACHSEN (OLD ICE) IC1\",   #no trend by month\n",
    "  \"ISACHSEN YIC\",\n",
    "  \"LADY FRANKLIN POINT YUJ\",\n",
    "  \"MOULD BAY YMD\",\n",
    "  \"SACHS HARBOUR YSY\", \n",
    "  # current stations up to 2016\n",
    "  \"ALERT LT1\", \n",
    "    \"ALERT YLT\", \n",
    "    \"CAMBRIDGE BAY YCB\", \n",
    "    \"CORAL HARBOUR YZS\", \n",
    "    \"EUREKA WEU\", \n",
    "    \"HALL BEACH YUX\", \n",
    "    \"IQALUIT YFB\", \n",
    "    \"RESOLUTE YRB\", # with 2016 data\n",
    "  # East of 100W, in hudson bay, no 2016\n",
    "  \"ARCTIC BAY YAB\",\n",
    "  \"CAPE DORSET YTE\",\n",
    "  \"CHESTERFIELD INLET YCS\",\n",
    "  \"CHURCHILL YYQ\",\n",
    "  \"CLYDE YCY\",\n",
    "  \"GLADMAN POINT YUR\",\n",
    "  \"INUKJUAK PH1\",\n",
    "  \"INUKJUAK WPH\",                 #no trend by month\n",
    "  \"IQALUIT YFB\",              \n",
    "  \"KUUJJUAQ YVP\",\n",
    "  \"KUUJJUARAPIK YGW\",\n",
    "  \"MOOSONEE WZC\",\n",
    "  \"POND INLET YIO\",\n",
    "  \"QUAQTAQ HA1\",\n",
    "  \"QUAQTAQ YHA\",\n",
    "  \"SHEPHERD BAY YUS\",              #no trend by month\n",
    "  \"SPENCE BAY YNC\",              \n",
    "  #inland stations for comparison\n",
    "  \"BAKER LAKE YBK\",\n",
    "  \"INUVIK YEV\"\n",
    "  # Further southeast around Labrador sea/PEI?\n",
    "]\n",
    "print(list_station)"
   ]
  },
  {
   "cell_type": "code",
   "execution_count": 20,
   "metadata": {},
   "outputs": [],
   "source": [
    "def read_station():\n",
    "    for i, station in enumerate(list_station):\n",
    "#         if idname.StationName.str.match(station).bool:\n",
    "        ID = idname.index[idname.StationName == station].format()\n",
    "        print(station)\n",
    "        eccc_data[station] = pd.read_csv(ID[0] + '.csv', parse_dates = [0], infer_datetime_format=True, index_col = 'Date')\n",
    "#         else:\n",
    "#             print('nothing')\n"
   ]
  },
  {
   "cell_type": "code",
   "execution_count": 24,
   "metadata": {},
   "outputs": [
    {
     "name": "stdout",
     "output_type": "stream",
     "text": [
      "CAPE PARRY ZUE\n",
      "COPPERMINE YCO\n",
      "HOLMAN ISLAND YHI\n",
      "ISACHSEN (OLD ICE) IC1\n",
      "ISACHSEN YIC\n",
      "LADY FRANKLIN POINT YUJ\n",
      "MOULD BAY YMD\n",
      "SACHS HARBOUR YSY\n",
      "ALERT LT1\n",
      "ALERT YLT\n",
      "CAMBRIDGE BAY YCB\n",
      "CORAL HARBOUR YZS\n",
      "EUREKA WEU\n",
      "HALL BEACH YUX\n",
      "IQALUIT YFB\n",
      "RESOLUTE YRB\n",
      "ARCTIC BAY YAB\n",
      "CAPE DORSET YTE\n",
      "CHESTERFIELD INLET YCS\n",
      "CHURCHILL YYQ\n",
      "CLYDE YCY\n",
      "GLADMAN POINT YUR\n",
      "INUKJUAK PH1\n",
      "INUKJUAK WPH\n",
      "IQALUIT YFB\n",
      "KUUJJUAQ YVP\n",
      "KUUJJUARAPIK YGW\n",
      "MOOSONEE WZC\n",
      "POND INLET YIO\n",
      "QUAQTAQ HA1\n",
      "QUAQTAQ YHA\n",
      "SHEPHERD BAY YUS\n",
      "SPENCE BAY YNC\n",
      "BAKER LAKE YBK\n",
      "INUVIK YEV\n"
     ]
    }
   ],
   "source": [
    "eccc_data = {}\n",
    "read_station()"
   ]
  },
  {
   "cell_type": "code",
   "execution_count": 25,
   "metadata": {},
   "outputs": [
    {
     "data": {
      "text/plain": [
       "dict_keys(['CAPE PARRY ZUE', 'COPPERMINE YCO', 'HOLMAN ISLAND YHI', 'ISACHSEN (OLD ICE) IC1', 'ISACHSEN YIC', 'LADY FRANKLIN POINT YUJ', 'MOULD BAY YMD', 'SACHS HARBOUR YSY', 'ALERT LT1', 'ALERT YLT', 'CAMBRIDGE BAY YCB', 'CORAL HARBOUR YZS', 'EUREKA WEU', 'HALL BEACH YUX', 'IQALUIT YFB', 'RESOLUTE YRB', 'ARCTIC BAY YAB', 'CAPE DORSET YTE', 'CHESTERFIELD INLET YCS', 'CHURCHILL YYQ', 'CLYDE YCY', 'GLADMAN POINT YUR', 'INUKJUAK PH1', 'INUKJUAK WPH', 'KUUJJUAQ YVP', 'KUUJJUARAPIK YGW', 'MOOSONEE WZC', 'POND INLET YIO', 'QUAQTAQ HA1', 'QUAQTAQ YHA', 'SHEPHERD BAY YUS', 'SPENCE BAY YNC', 'BAKER LAKE YBK', 'INUVIK YEV'])"
      ]
     },
     "execution_count": 25,
     "metadata": {},
     "output_type": "execute_result"
    }
   ],
   "source": [
    "dir(eccc_data)\n",
    "eccc_data.keys()"
   ]
  },
  {
   "cell_type": "code",
   "execution_count": 26,
   "metadata": {},
   "outputs": [],
   "source": [
    "# Month list from August\n",
    "#sep_jul <- c(\"S\", \"O\", \"N\", \"D\", \"J\", \"F\", \"M\", \"A\", \"M\", \"J\", \"J\")\n",
    "aug_jul = [\"Aug\", \"Sep\", \"Oct\", \"Nov\", \"Dec\", \"Jan\", \"Feb\", \"Mar\", \"Apr\", \"May\", \"Jun\", \"Jul\"]\n",
    "A_J = [\"A\",\"S\", \"O\", \"N\", \"D\", \"J\", \"F\", \"M\", \"A\", \"M\", \"J\", \"J\"]"
   ]
  },
  {
   "cell_type": "code",
   "execution_count": 27,
   "metadata": {},
   "outputs": [],
   "source": [
    "# READING SNOW DEPTH FROM EACH STATION\n",
    "def read_snowdepth(data):\n",
    "    for i, station in enumerate(list_station):\n",
    "        station_title = station.replace(' ', '_')\n",
    "        print(station_title)\n",
    "        station_snowdepth[station] = pd.DataFrame({'snow_depth':data[station]['Snowdepth']})\n",
    "    return station_snowdepth"
   ]
  },
  {
   "cell_type": "code",
   "execution_count": 28,
   "metadata": {},
   "outputs": [
    {
     "name": "stdout",
     "output_type": "stream",
     "text": [
      "CAPE_PARRY_ZUE\n"
     ]
    },
    {
     "ename": "NameError",
     "evalue": "name 'station_snowdepth' is not defined",
     "output_type": "error",
     "traceback": [
      "\u001b[1;31m---------------------------------------------------------------------------\u001b[0m",
      "\u001b[1;31mNameError\u001b[0m                                 Traceback (most recent call last)",
      "\u001b[1;32m<ipython-input-28-af53c40edcc6>\u001b[0m in \u001b[0;36m<module>\u001b[1;34m()\u001b[0m\n\u001b[1;32m----> 1\u001b[1;33m \u001b[0mread_snowdepth\u001b[0m\u001b[1;33m(\u001b[0m\u001b[0meccc_data\u001b[0m\u001b[1;33m)\u001b[0m\u001b[1;33m\u001b[0m\u001b[0m\n\u001b[0m",
      "\u001b[1;32m<ipython-input-27-3e7ec4256a50>\u001b[0m in \u001b[0;36mread_snowdepth\u001b[1;34m(data)\u001b[0m\n\u001b[0;32m      4\u001b[0m         \u001b[0mstation_title\u001b[0m \u001b[1;33m=\u001b[0m \u001b[0mstation\u001b[0m\u001b[1;33m.\u001b[0m\u001b[0mreplace\u001b[0m\u001b[1;33m(\u001b[0m\u001b[1;34m' '\u001b[0m\u001b[1;33m,\u001b[0m \u001b[1;34m'_'\u001b[0m\u001b[1;33m)\u001b[0m\u001b[1;33m\u001b[0m\u001b[0m\n\u001b[0;32m      5\u001b[0m         \u001b[0mprint\u001b[0m\u001b[1;33m(\u001b[0m\u001b[0mstation_title\u001b[0m\u001b[1;33m)\u001b[0m\u001b[1;33m\u001b[0m\u001b[0m\n\u001b[1;32m----> 6\u001b[1;33m         \u001b[0mstation_snowdepth\u001b[0m\u001b[1;33m[\u001b[0m\u001b[0mstation\u001b[0m\u001b[1;33m]\u001b[0m \u001b[1;33m=\u001b[0m \u001b[0mpd\u001b[0m\u001b[1;33m.\u001b[0m\u001b[0mDataFrame\u001b[0m\u001b[1;33m(\u001b[0m\u001b[1;33m{\u001b[0m\u001b[1;34m'snow_depth'\u001b[0m\u001b[1;33m:\u001b[0m\u001b[0mdata\u001b[0m\u001b[1;33m[\u001b[0m\u001b[0mstation\u001b[0m\u001b[1;33m]\u001b[0m\u001b[1;33m[\u001b[0m\u001b[1;34m'Snowdepth'\u001b[0m\u001b[1;33m]\u001b[0m\u001b[1;33m}\u001b[0m\u001b[1;33m)\u001b[0m\u001b[1;33m\u001b[0m\u001b[0m\n\u001b[0m\u001b[0;32m      7\u001b[0m     \u001b[1;32mreturn\u001b[0m \u001b[0mstation_snowdepth\u001b[0m\u001b[1;33m\u001b[0m\u001b[0m\n",
      "\u001b[1;31mNameError\u001b[0m: name 'station_snowdepth' is not defined"
     ]
    }
   ],
   "source": [
    "read_snowdepth(eccc_data)"
   ]
  },
  {
   "cell_type": "code",
   "execution_count": 37,
   "metadata": {},
   "outputs": [
    {
     "ename": "AttributeError",
     "evalue": "'dict' object has no attribute 'head'",
     "output_type": "error",
     "traceback": [
      "\u001b[1;31m---------------------------------------------------------------------------\u001b[0m",
      "\u001b[1;31mAttributeError\u001b[0m                            Traceback (most recent call last)",
      "\u001b[1;32m<ipython-input-37-f76a947cc87c>\u001b[0m in \u001b[0;36m<module>\u001b[1;34m()\u001b[0m\n\u001b[1;32m----> 1\u001b[1;33m \u001b[0mstation_snowdepth\u001b[0m\u001b[1;33m.\u001b[0m\u001b[0mhead\u001b[0m\u001b[1;33m(\u001b[0m\u001b[1;33m)\u001b[0m\u001b[1;33m\u001b[0m\u001b[0m\n\u001b[0m",
      "\u001b[1;31mAttributeError\u001b[0m: 'dict' object has no attribute 'head'"
     ]
    }
   ],
   "source": [
    "station_snowdepth.head()"
   ]
  },
  {
   "cell_type": "code",
   "execution_count": 11,
   "metadata": {},
   "outputs": [],
   "source": [
    "## After reading the snow depth vs date, now manipulate in different ways\n",
    "#Function to plot monthly time series for all stations\n",
    "def month_time_series(data,save_directory):\n",
    "    station_monthly_mean = pd.\n",
    "        for i, station in enumerate(list_stn):\n",
    "            plt.plot()"
   ]
  },
  {
   "cell_type": "code",
   "execution_count": 10,
   "metadata": {},
   "outputs": [],
   "source": [
    "svdir = Mdir + 'output/ts_mth_avg/plots/'\n",
    "month_time_series(,svdir)"
   ]
  },
  {
   "cell_type": "code",
   "execution_count": null,
   "metadata": {},
   "outputs": [],
   "source": []
  }
 ],
 "metadata": {
  "kernelspec": {
   "display_name": "Python 3",
   "language": "python",
   "name": "python3"
  },
  "language_info": {
   "codemirror_mode": {
    "name": "ipython",
    "version": 3
   },
   "file_extension": ".py",
   "mimetype": "text/x-python",
   "name": "python",
   "nbconvert_exporter": "python",
   "pygments_lexer": "ipython3",
   "version": "3.7.0"
  }
 },
 "nbformat": 4,
 "nbformat_minor": 2
}
