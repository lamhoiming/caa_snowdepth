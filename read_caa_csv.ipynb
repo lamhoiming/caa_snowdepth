{
 "cells": [
  {
   "cell_type": "code",
   "execution_count": 263,
   "metadata": {},
   "outputs": [
    {
     "data": {
      "application/javascript": [
       "IPython.notebook.set_autosave_interval(30000)"
      ]
     },
     "metadata": {},
     "output_type": "display_data"
    },
    {
     "name": "stdout",
     "output_type": "stream",
     "text": [
      "Autosaving every 30 seconds\n"
     ]
    }
   ],
   "source": [
    "%autosave 30"
   ]
  },
  {
   "cell_type": "code",
   "execution_count": 95,
   "metadata": {},
   "outputs": [],
   "source": [
    "\"\"\"\n",
    "Translating read_caa_csv.R into Python\n",
    "Lam Hoi Ming\n",
    "02-07-2019\n",
    "\n",
    "Data processing is done on the original csv file. Separated into files by station\n",
    "\"\"\"\n",
    "import os\n",
    "import re\n",
    "import pandas as pd"
   ]
  },
  {
   "cell_type": "code",
   "execution_count": 56,
   "metadata": {},
   "outputs": [],
   "source": [
    "############ data input #################\n",
    "#### set data input working directory: Where are your data?\n",
    "Mdir = \"d:/phd/caa/eccc/snowdepth/\"   # Master/root dir\n",
    "wdir = Mdir + \"data/station/csv/\" # specific working dir\n",
    "os.chdir(wdir)\n"
   ]
  },
  {
   "cell_type": "code",
   "execution_count": 212,
   "metadata": {},
   "outputs": [
    {
     "data": {
      "text/html": [
       "<div>\n",
       "<style scoped>\n",
       "    .dataframe tbody tr th:only-of-type {\n",
       "        vertical-align: middle;\n",
       "    }\n",
       "\n",
       "    .dataframe tbody tr th {\n",
       "        vertical-align: top;\n",
       "    }\n",
       "\n",
       "    .dataframe thead th {\n",
       "        text-align: right;\n",
       "    }\n",
       "</style>\n",
       "<table border=\"1\" class=\"dataframe\">\n",
       "  <thead>\n",
       "    <tr style=\"text-align: right;\">\n",
       "      <th></th>\n",
       "      <th>Date</th>\n",
       "      <th>Icethickness</th>\n",
       "      <th>Snowdepth</th>\n",
       "      <th>MeasurementMethod</th>\n",
       "      <th>SurfaceTopology</th>\n",
       "      <th>CracksandLeads</th>\n",
       "    </tr>\n",
       "  </thead>\n",
       "  <tbody>\n",
       "    <tr>\n",
       "      <th>0</th>\n",
       "      <td>1971/01/06</td>\n",
       "      <td>51</td>\n",
       "      <td>NaN</td>\n",
       "      <td>NaN</td>\n",
       "      <td>NaN</td>\n",
       "      <td>NaN</td>\n",
       "    </tr>\n",
       "    <tr>\n",
       "      <th>1</th>\n",
       "      <td>1971/01/20</td>\n",
       "      <td>64</td>\n",
       "      <td>5.0</td>\n",
       "      <td>NaN</td>\n",
       "      <td>NaN</td>\n",
       "      <td>NaN</td>\n",
       "    </tr>\n",
       "    <tr>\n",
       "      <th>2</th>\n",
       "      <td>1971/01/28</td>\n",
       "      <td>69</td>\n",
       "      <td>15.0</td>\n",
       "      <td>NaN</td>\n",
       "      <td>NaN</td>\n",
       "      <td>NaN</td>\n",
       "    </tr>\n",
       "    <tr>\n",
       "      <th>3</th>\n",
       "      <td>1971/02/03</td>\n",
       "      <td>71</td>\n",
       "      <td>23.0</td>\n",
       "      <td>NaN</td>\n",
       "      <td>NaN</td>\n",
       "      <td>NaN</td>\n",
       "    </tr>\n",
       "    <tr>\n",
       "      <th>4</th>\n",
       "      <td>1971/02/11</td>\n",
       "      <td>71</td>\n",
       "      <td>30.0</td>\n",
       "      <td>NaN</td>\n",
       "      <td>NaN</td>\n",
       "      <td>NaN</td>\n",
       "    </tr>\n",
       "  </tbody>\n",
       "</table>\n",
       "</div>"
      ],
      "text/plain": [
       "         Date  Icethickness  Snowdepth  MeasurementMethod  SurfaceTopology  \\\n",
       "0  1971/01/06            51        NaN                NaN              NaN   \n",
       "1  1971/01/20            64        5.0                NaN              NaN   \n",
       "2  1971/01/28            69       15.0                NaN              NaN   \n",
       "3  1971/02/03            71       23.0                NaN              NaN   \n",
       "4  1971/02/11            71       30.0                NaN              NaN   \n",
       "\n",
       "   CracksandLeads  \n",
       "0             NaN  \n",
       "1             NaN  \n",
       "2             NaN  \n",
       "3             NaN  \n",
       "4             NaN  "
      ]
     },
     "execution_count": 212,
     "metadata": {},
     "output_type": "execute_result"
    }
   ],
   "source": [
    "# Getting station ID\n",
    "# Lat lon info are stored in idname\n",
    "idname = pd.read_csv('ID_NAME.csv', encoding = \"utf-8\", sep = ',', index_col = 'StationID') # ISO-8859-1 for ASCII\n",
    "idname.head()"
   ]
  },
  {
   "cell_type": "code",
   "execution_count": 71,
   "metadata": {},
   "outputs": [
    {
     "name": "stdout",
     "output_type": "stream",
     "text": [
      "['CAPE PARRY ZUE', 'COPPERMINE YCO', 'HOLMAN ISLAND YHI', 'ISACHSEN (OLD ICE) IC1', 'ISACHSEN YIC', 'LADY FRANKLIN POINT YUJ', 'MOULD BAY YMD', 'SACHS HARBOUR YSY', 'ALERT LT1', 'ALERT YLT', 'CAMBRIDGE BAY YCB', 'CORAL HARBOUR YZS', 'EUREKA WEU', 'HALL BEACH YUX', 'IQALUIT YFB', 'RESOLUTE YRB', 'ARCTIC BAY YAB', 'CAPE DORSET YTE', 'CHESTERFIELD INLET YCS', 'CHURCHILL YYQ', 'CLYDE YCY', 'GLADMAN POINT YUR', 'INUKJUAK PH1', 'INUKJUAK WPH', 'IQALUIT YFB', 'KUUJJUAQ YVP', 'KUUJJUARAPIK YGW', 'MOOSONEE WZC', 'POND INLET YIO', 'QUAQTAQ HA1', 'QUAQTAQ YHA', 'SHEPHERD BAY YUS', 'SPENCE BAY YNC', 'BAKER LAKE YBK', 'INUVIK YEV']\n"
     ]
    }
   ],
   "source": [
    "# List of stations\n",
    "list_stn = [\n",
    "  # West of 100W, no 2016\n",
    "  \"CAPE PARRY ZUE\", \n",
    "  \"COPPERMINE YCO\",\n",
    "  \"HOLMAN ISLAND YHI\",\n",
    "  \"ISACHSEN (OLD ICE) IC1\",   #no trend by month\n",
    "  \"ISACHSEN YIC\",\n",
    "  \"LADY FRANKLIN POINT YUJ\",\n",
    "  \"MOULD BAY YMD\",\n",
    "  \"SACHS HARBOUR YSY\", \n",
    "  # current stations up to 2016\n",
    "  \"ALERT LT1\", \n",
    "    \"ALERT YLT\", \n",
    "    \"CAMBRIDGE BAY YCB\", \n",
    "    \"CORAL HARBOUR YZS\", \n",
    "    \"EUREKA WEU\", \"HALL BEACH YUX\", \n",
    "    \"IQALUIT YFB\", \n",
    "    \"RESOLUTE YRB\", # with 2016 data\n",
    "  # East of 100W, in hudson bay, no 2016\n",
    "  \"ARCTIC BAY YAB\",\n",
    "  \"CAPE DORSET YTE\",\n",
    "  \"CHESTERFIELD INLET YCS\",\n",
    "  \"CHURCHILL YYQ\",\n",
    "  \"CLYDE YCY\",\n",
    "  \"GLADMAN POINT YUR\",\n",
    "  \"INUKJUAK PH1\",\n",
    "  \"INUKJUAK WPH\",                 #no trend by month\n",
    "  \"IQALUIT YFB\",              \n",
    "  \"KUUJJUAQ YVP\",\n",
    "  \"KUUJJUARAPIK YGW\",\n",
    "  \"MOOSONEE WZC\",\n",
    "  \"POND INLET YIO\",\n",
    "  \"QUAQTAQ HA1\",\n",
    "  \"QUAQTAQ YHA\",\n",
    "  \"SHEPHERD BAY YUS\",              #no trend by month\n",
    "  \"SPENCE BAY YNC\",              \n",
    "  #inland stations for comparison\n",
    "  \"BAKER LAKE YBK\",\n",
    "  \"INUVIK YEV\"\n",
    "  # Further southeast around Labrador sea/PEI?\n",
    "]\n",
    "print(list_stn)"
   ]
  },
  {
   "cell_type": "code",
   "execution_count": 167,
   "metadata": {},
   "outputs": [
    {
     "name": "stdout",
     "output_type": "stream",
     "text": [
      "<class 'pandas.core.series.Series'>\n",
      "<class 'str'>\n"
     ]
    }
   ],
   "source": [
    "# for i, station in enumerate(list_stn):\n",
    "#     print(station)\n",
    "print(type(idname.StationName[:]))\n",
    "print(type(idname['StationName'][0]))"
   ]
  },
  {
   "cell_type": "code",
   "execution_count": 259,
   "metadata": {},
   "outputs": [],
   "source": [
    "def read_station():\n",
    "    for i, station in enumerate(list_stn):\n",
    "#         if idname.StationName.str.match(station).bool:\n",
    "        ID = idname.index[idname.StationName == station].format()\n",
    "        print(station)\n",
    "        fdata[station] = pd.read_csv(ID[0] + '.csv', index_col = 'Date')\n",
    "#         else:\n",
    "#             print('nothing')\n"
   ]
  },
  {
   "cell_type": "code",
   "execution_count": 260,
   "metadata": {},
   "outputs": [
    {
     "name": "stdout",
     "output_type": "stream",
     "text": [
      "CAPE PARRY ZUE\n",
      "COPPERMINE YCO\n",
      "HOLMAN ISLAND YHI\n",
      "ISACHSEN (OLD ICE) IC1\n",
      "ISACHSEN YIC\n",
      "LADY FRANKLIN POINT YUJ\n",
      "MOULD BAY YMD\n",
      "SACHS HARBOUR YSY\n",
      "ALERT LT1\n",
      "ALERT YLT\n",
      "CAMBRIDGE BAY YCB\n",
      "CORAL HARBOUR YZS\n",
      "EUREKA WEU\n",
      "HALL BEACH YUX\n",
      "IQALUIT YFB\n",
      "RESOLUTE YRB\n",
      "ARCTIC BAY YAB\n",
      "CAPE DORSET YTE\n",
      "CHESTERFIELD INLET YCS\n",
      "CHURCHILL YYQ\n",
      "CLYDE YCY\n",
      "GLADMAN POINT YUR\n",
      "INUKJUAK PH1\n",
      "INUKJUAK WPH\n",
      "IQALUIT YFB\n",
      "KUUJJUAQ YVP\n",
      "KUUJJUARAPIK YGW\n",
      "MOOSONEE WZC\n",
      "POND INLET YIO\n",
      "QUAQTAQ HA1\n",
      "QUAQTAQ YHA\n",
      "SHEPHERD BAY YUS\n",
      "SPENCE BAY YNC\n",
      "BAKER LAKE YBK\n",
      "INUVIK YEV\n"
     ]
    }
   ],
   "source": [
    "fdata = {}\n",
    "read_station()\n",
    "# fdata['ALERT YLT']"
   ]
  },
  {
   "cell_type": "code",
   "execution_count": 261,
   "metadata": {},
   "outputs": [],
   "source": [
    "# Month list from August\n",
    "#sep_jul <- c(\"S\", \"O\", \"N\", \"D\", \"J\", \"F\", \"M\", \"A\", \"M\", \"J\", \"J\")\n",
    "aug_jul = [\"Aug\", \"Sep\", \"Oct\", \"Nov\", \"Dec\", \"Jan\", \"Feb\", \"Mar\", \"Apr\", \"May\", \"Jun\", \"Jul\"]\n",
    "A_J = [\"A\",\"S\", \"O\", \"N\", \"D\", \"J\", \"F\", \"M\", \"A\", \"M\", \"J\", \"J\"]"
   ]
  },
  {
   "cell_type": "code",
   "execution_count": null,
   "metadata": {},
   "outputs": [],
   "source": []
  }
 ],
 "metadata": {
  "kernelspec": {
   "display_name": "Python 3",
   "language": "python",
   "name": "python3"
  },
  "language_info": {
   "codemirror_mode": {
    "name": "ipython",
    "version": 3
   },
   "file_extension": ".py",
   "mimetype": "text/x-python",
   "name": "python",
   "nbconvert_exporter": "python",
   "pygments_lexer": "ipython3",
   "version": "3.7.0"
  }
 },
 "nbformat": 4,
 "nbformat_minor": 2
}
